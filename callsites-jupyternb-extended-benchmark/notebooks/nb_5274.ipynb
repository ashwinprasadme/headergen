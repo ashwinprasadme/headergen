{
 "cells": [
  {
   "cell_type": "code",
   "execution_count": 1,
   "metadata": {
    "collapsed": false
   },
   "outputs": [
    {
     "name": "stderr",
     "output_type": "stream",
     "text": [
      "/Users/ericmjl/anaconda/lib/python3.5/site-packages/sklearn/cross_validation.py:44: DeprecationWarning: This module was deprecated in version 0.18 in favor of the model_selection module into which all the refactored classes and functions are moved. Also note that the interface of the new CV iterators are different from that of this module. This module will be removed in 0.20.\n",
      "  \"This module will be removed in 0.20.\", DeprecationWarning)\n"
     ]
    }
   ],
   "source": [
    "from sklearn.ensemble import RandomForestRegressor\n",
    "import custom_funcs as cf"
   ]
  },
  {
   "cell_type": "code",
   "execution_count": 4,
   "metadata": {
    "collapsed": false
   },
   "outputs": [],
   "source": [
    "drugs = ['FPV', 'ATV', 'IDV', 'LPV', 'NFV', 'SQV', 'TPV', 'DRV',]\n",
    "drug = drugs[0]\n",
    "protein = 'protease'\n",
    "\n",
    "data, feat_cols = cf.get_cleaned_data(protein, drug)\n",
    "\n",
    "# Just checking:\n",
    "cf.test_data_integrity(data)\n",
    "\n",
    "## Now, let's do data transformations.\n",
    "data_numeric = cf.to_numeric_rep(data, feat_cols, rep='pKa')\n",
    "\n",
    "# Finally, split the data into a training set, and test set.\n",
    "X, Y, X_train, X_test, Y_train, Y_test = cf.to_train_test_split(data_numeric, feat_cols, drug, test_size=0.3)\n",
    "# sscv = ShuffleSplit(n=len(X_train), n_iter=3, test_size=0.3)"
   ]
  },
  {
   "cell_type": "code",
   "execution_count": 11,
   "metadata": {
    "collapsed": false,
    "scrolled": true
   },
   "outputs": [
    {
     "data": {
      "text/plain": [
       "array([-0.39794001,  0.        , -0.39794001,  0.74036269,  0.69019608,\n",
       "        0.25527251, -0.22184875,  1.62838893, -0.39794001, -0.04575749,\n",
       "       -0.09691001,  1.36172784,  2.16435286, -0.04575749,  1.49136169,\n",
       "        0.63346846,  0.44715803, -0.04575749, -0.09691001,  0.66275783,\n",
       "       -0.09691001,  0.04139269, -0.39794001,  0.14612804, -1.        ,\n",
       "        1.74036269, -0.69897   ,  0.59106461, -0.22184875, -1.        ,\n",
       "       -0.09691001, -0.22184875, -0.09691001,  1.53147892,  1.21748394,\n",
       "        0.        ,  0.95424251,  0.14612804,  1.25527251, -1.        ,\n",
       "        1.14612804,  0.36172784, -0.39794001,  0.61278386, -0.69897   ,\n",
       "        0.14612804,  0.11394335, -0.09691001,  1.07918125, -0.04575749,\n",
       "        0.        , -0.30103   ,  2.47712125,  0.74818803,  0.462398  ,\n",
       "        2.60205999,  1.04139269, -0.09691001,  0.67209786, -0.22184875,\n",
       "        1.69897   , -0.04575749,  0.77815125,  1.17609126,  1.74036269,\n",
       "       -0.15490196, -0.39794001,  0.63346846,  0.62324929, -0.30103   ,\n",
       "       -0.39794001,  0.67209786, -0.22184875,  1.14612804,  1.63346846,\n",
       "       -0.39794001,  0.95904139,  0.25527251,  0.47712125,  1.14612804,\n",
       "       -1.        ,  0.04139269,  0.04139269, -0.39794001,  0.71600334,\n",
       "        0.        ,  0.36172784, -0.09691001, -0.04575749, -0.09691001,\n",
       "        0.32221929,  0.77815125, -0.15490196, -0.15490196, -0.04575749,\n",
       "        0.5797836 , -0.22184875,  1.32221929, -0.22184875,  0.90308999,\n",
       "        0.73239376,  0.38021124,  0.85125835, -0.09691001,  1.04139269,\n",
       "        1.83250891,  1.07918125,  1.2787536 , -0.22184875, -0.09691001,\n",
       "       -0.09691001, -0.22184875,  0.99563519,  0.39794001,  0.36172784,\n",
       "        0.07918125,  0.07918125, -0.04575749, -0.04575749, -0.22184875,\n",
       "       -0.22184875, -0.39794001,  0.73239376,  0.        , -0.39794001,\n",
       "       -1.        ,  0.2787536 ,  0.        ,  0.34242268, -0.30103   ,\n",
       "       -0.39794001,  1.2787536 , -0.22184875, -0.15490196,  0.11394335,\n",
       "       -0.30103   , -0.39794001,  0.41497335, -0.30103   ,  0.14612804,\n",
       "        0.98677173,  0.04139269,  0.2787536 ,  0.23044892, -0.04575749,\n",
       "        1.36172784,  0.60205999, -0.22184875,  0.11394335,  0.79934055,\n",
       "        0.07918125,  1.49136169,  0.56820172, -1.        ,  0.41497335,\n",
       "       -0.22184875,  0.62324929,  0.07918125,  0.25527251,  0.83250891,\n",
       "        0.17609126, -0.22184875, -0.04575749,  0.44715803,  0.17609126,\n",
       "       -0.30103   ,  0.14612804,  0.04139269,  0.07918125, -0.69897   ,\n",
       "        0.39794001,  1.83884909,  1.44715803,  0.04139269, -1.        ,\n",
       "        1.05690485,  0.59106461, -0.30103   , -1.        ,  1.80617997,\n",
       "       -1.        , -0.52287875, -0.04575749,  0.72427587,  0.        ,\n",
       "        1.14612804,  0.73239376,  1.2787536 ,  0.77815125,  1.11394335,\n",
       "        1.49276039, -0.09691001, -0.09691001,  0.39794001,  2.27184161,\n",
       "        1.20411998, -0.04575749,  0.07918125, -0.04575749,  0.32221929,\n",
       "        2.60205999,  1.17609126, -0.04575749, -0.52287875, -0.39794001,\n",
       "       -0.30103   , -1.        , -0.22184875,  0.83884909,  0.5797836 ,\n",
       "       -0.22184875, -0.52287875,  0.92427929, -0.69897   , -0.09691001,\n",
       "       -0.04575749,  0.54406804,  0.8260748 , -0.15490196, -0.30103   ,\n",
       "       -0.30103   ,  0.        ,  0.23044892,  1.67209786, -0.39794001,\n",
       "       -1.        ,  0.79239169,  0.64345268,  2.15228834, -0.15490196,\n",
       "       -0.15490196,  0.        ,  0.43136376,  0.79934055, -0.52287875,\n",
       "        1.14612804,  0.04139269,  1.04139269,  0.36172784, -0.52287875,\n",
       "       -0.39794001,  0.04139269, -0.39794001,  0.81954394, -0.22184875,\n",
       "        0.11394335,  0.43136376,  1.72427587, -0.69897   , -0.15490196,\n",
       "        0.20411998,  0.14612804,  0.17609126,  0.14612804,  1.39794001,\n",
       "       -0.09691001,  1.83884909, -0.39794001,  0.56820172,  0.04139269,\n",
       "        0.61278386, -0.30103   ,  2.60205999,  0.        ,  0.462398  ,\n",
       "        0.79934055,  1.5965971 ,  0.07918125,  1.56820172,  0.49136169,\n",
       "       -0.04575749, -0.22184875, -0.22184875,  0.32221929,  1.43136376,\n",
       "        2.60205999, -0.04575749,  0.        ,  0.11394335, -1.        ,\n",
       "        0.41497335, -0.15490196,  0.462398  , -0.22184875, -0.22184875,\n",
       "       -0.04575749,  0.64345268, -0.09691001, -0.39794001,  0.2787536 ,\n",
       "        0.86332286,  1.53147892,  0.        ,  0.81291336, -0.15490196,\n",
       "        1.32221929, -0.39794001,  0.92941893,  0.39794001, -0.22184875,\n",
       "       -0.39794001,  1.32221929, -0.09691001, -0.52287875, -0.22184875,\n",
       "        0.04139269, -0.09691001, -0.04575749,  1.23044892,  0.07918125,\n",
       "       -0.52287875,  0.34242268, -0.09691001,  0.14612804,  0.04139269,\n",
       "        1.49136169, -0.04575749, -0.39794001,  0.20411998, -0.30103   ,\n",
       "        0.34242268,  1.67209786, -0.69897   ,  0.11394335, -0.15490196,\n",
       "        0.80617997,  0.11394335, -0.22184875,  0.25527251,  0.65321251,\n",
       "       -1.        , -0.22184875,  1.66275783,  0.17609126,  0.71600334,\n",
       "        1.23044892,  0.17609126, -1.        ,  0.43136376, -0.39794001,\n",
       "        0.32221929, -0.22184875, -0.30103   , -0.09691001, -0.22184875,\n",
       "        1.62324929,  1.32221929,  1.11394335,  0.63346846,  0.30103   ,\n",
       "       -0.30103   , -0.09691001,  0.59106461,  0.92427929,  1.80617997,\n",
       "       -0.39794001,  0.8920946 , -1.        ,  0.20411998,  1.2121876 ,\n",
       "        1.68124124,  1.04139269,  2.60205999, -0.22184875,  1.17609126,\n",
       "       -0.22184875, -0.15490196,  0.462398  , -0.52287875,  0.23044892,\n",
       "       -0.30103   , -0.15490196, -0.22184875,  0.77815125,  0.44715803,\n",
       "       -0.22184875,  0.11394335, -0.22184875, -0.30103   ,  0.69897   ,\n",
       "        0.75587486, -0.22184875, -0.15490196, -0.22184875,  0.49136169,\n",
       "        0.84509804, -0.39794001,  1.75587486, -0.09691001, -0.52287875,\n",
       "       -0.30103   ,  2.60205999,  0.04139269,  1.20411998,  0.32221929,\n",
       "       -0.04575749, -0.39794001, -0.09691001, -0.39794001,  0.36172784,\n",
       "        0.        , -0.30103   ,  0.14612804,  0.44715803,  0.70757018,\n",
       "        1.25527251,  0.04139269, -0.04575749,  2.05690485,  1.04139269,\n",
       "       -0.52287875,  0.62324929,  2.60205999,  0.61278386,  0.11394335,\n",
       "       -0.22184875,  0.5563025 ,  0.79239169,  0.8920946 ,  2.17026172,\n",
       "        0.04139269, -0.09691001,  1.39794001,  0.11394335,  0.69897   ,\n",
       "        0.04139269,  0.62324929,  0.66275783,  1.17609126,  0.32221929,\n",
       "        0.04139269,  0.8260748 ,  0.23044892,  1.39794001, -0.04575749,\n",
       "       -0.30103   ,  0.04139269,  0.        ,  0.81954394, -0.22184875,\n",
       "        0.07918125, -0.09691001, -0.22184875, -0.69897   , -0.15490196,\n",
       "       -0.15490196,  0.        ,  0.11394335, -1.        ,  0.81954394,\n",
       "        1.14612804, -0.15490196,  0.11394335, -0.04575749, -0.52287875,\n",
       "       -0.39794001,  1.51851394,  0.8260748 , -1.        ,  2.60205999,\n",
       "        1.32221929,  0.93951925,  0.54406804,  1.14612804, -0.15490196,\n",
       "        1.76342799,  0.36172784,  0.91381385, -0.04575749,  0.43136376,\n",
       "        0.        ,  1.49136169,  0.17609126,  1.50514998, -0.09691001,\n",
       "        1.6294096 ,  1.462398  ,  0.74818803,  2.60205999,  2.12057393,\n",
       "        1.80617997,  0.14612804,  0.71600334, -0.22184875, -0.09691001,\n",
       "        2.14921911,  1.78532984,  1.88081359,  0.        ,  0.2787536 ,\n",
       "       -0.22184875, -0.22184875,  1.34242268, -0.30103   ,  0.07918125,\n",
       "       -0.22184875,  0.11394335, -0.22184875, -0.30103   , -0.69897   ,\n",
       "       -0.30103   ,  0.        , -0.39794001,  0.83884909, -0.22184875,\n",
       "        0.11394335,  0.50514998,  0.60205999])"
      ]
     },
     "execution_count": 11,
     "metadata": {},
     "output_type": "execute_result"
    }
   ],
   "source": [
    "Y_train"
   ]
  },
  {
   "cell_type": "code",
   "execution_count": 7,
   "metadata": {
    "collapsed": false,
    "scrolled": true
   },
   "outputs": [
    {
     "data": {
      "text/plain": [
       "726"
      ]
     },
     "execution_count": 7,
     "metadata": {},
     "output_type": "execute_result"
    }
   ],
   "source": [
    "len(data_numeric)"
   ]
  },
  {
   "cell_type": "code",
   "execution_count": 12,
   "metadata": {
    "collapsed": false
   },
   "outputs": [
    {
     "data": {
      "text/plain": [
       "RandomForestRegressor(bootstrap=True, criterion='mse', max_depth=None,\n",
       "           max_features='auto', max_leaf_nodes=None,\n",
       "           min_impurity_split=1e-07, min_samples_leaf=1,\n",
       "           min_samples_split=2, min_weight_fraction_leaf=0.0,\n",
       "           n_estimators=200, n_jobs=-1, oob_score=False, random_state=None,\n",
       "           verbose=0, warm_start=False)"
      ]
     },
     "execution_count": 12,
     "metadata": {},
     "output_type": "execute_result"
    }
   ],
   "source": [
    "rfr = RandomForestRegressor(n_estimators=200, n_jobs=-1)\n",
    "rfr.fit(X_train, Y_train)"
   ]
  },
  {
   "cell_type": "code",
   "execution_count": 14,
   "metadata": {
    "collapsed": false
   },
   "outputs": [
    {
     "data": {
      "text/plain": [
       "array([-0.09897597, -0.05205581, -0.16369835, -0.43073883, -0.23877284])"
      ]
     },
     "execution_count": 14,
     "metadata": {},
     "output_type": "execute_result"
    }
   ],
   "source": [
    "preds = rfr.predict(X_test)\n",
    "preds[0:5]"
   ]
  },
  {
   "cell_type": "code",
   "execution_count": 16,
   "metadata": {
    "collapsed": false
   },
   "outputs": [
    {
     "data": {
      "text/plain": [
       "<matplotlib.collections.PathCollection at 0x10fa45390>"
      ]
     },
     "execution_count": 16,
     "metadata": {},
     "output_type": "execute_result"
    },
    {
     "data": {
      "image/png": "[encoded data removed]",
      "text/plain": [
       "<matplotlib.figure.Figure at 0x10fbff860>"
      ]
     },
     "metadata": {},
     "output_type": "display_data"
    }
   ],
   "source": [
    "import matplotlib.pyplot as plt\n",
    "%matplotlib inline\n",
    "\n",
    "plt.scatter(Y_test, preds)"
   ]
  },
  {
   "cell_type": "code",
   "execution_count": 18,
   "metadata": {
    "collapsed": false
   },
   "outputs": [
    {
     "data": {
      "text/plain": [
       "0.77801483028757112"
      ]
     },
     "execution_count": 18,
     "metadata": {},
     "output_type": "execute_result"
    }
   ],
   "source": [
    "from sklearn.metrics import r2_score, mean_squared_error\n",
    "\n",
    "r2_score(Y_test, preds)"
   ]
  },
  {
   "cell_type": "code",
   "execution_count": 19,
   "metadata": {
    "collapsed": false
   },
   "outputs": [
    {
     "data": {
      "text/plain": [
       "0.12882769201611294"
      ]
     },
     "execution_count": 19,
     "metadata": {},
     "output_type": "execute_result"
    }
   ],
   "source": [
    "mean_squared_error(Y_test, preds)"
   ]
  },
  {
   "cell_type": "code",
   "execution_count": 21,
   "metadata": {
    "collapsed": false
   },
   "outputs": [
    {
     "data": {
      "text/plain": [
       "[<matplotlib.lines.Line2D at 0x10fa199e8>]"
      ]
     },
     "execution_count": 21,
     "metadata": {},
     "output_type": "execute_result"
    },
    {
     "data": {
      "image/png": "[encoded data removed]",
      "text/plain": [
       "<matplotlib.figure.Figure at 0x10fa33b00>"
      ]
     },
     "metadata": {},
     "output_type": "display_data"
    }
   ],
   "source": [
    "plt.plot(rfr.feature_importances_)"
   ]
  },
  {
   "cell_type": "code",
   "execution_count": 22,
   "metadata": {
    "collapsed": true
   },
   "outputs": [],
   "source": [
    "from sklearn.linear_model import LinearRegression"
   ]
  },
  {
   "cell_type": "code",
   "execution_count": 23,
   "metadata": {
    "collapsed": true
   },
   "outputs": [],
   "source": [
    "lr = LinearRegression()\n",
    "lr.fit(X_train, Y_train)\n",
    "preds = lr.predict(X_test)"
   ]
  },
  {
   "cell_type": "code",
   "execution_count": 24,
   "metadata": {
    "collapsed": false
   },
   "outputs": [
    {
     "data": {
      "text/plain": [
       "-9.9965134839271929e+20"
      ]
     },
     "execution_count": 24,
     "metadata": {},
     "output_type": "execute_result"
    }
   ],
   "source": [
    "r2_score(Y_test, preds)"
   ]
  },
  {
   "cell_type": "code",
   "execution_count": 25,
   "metadata": {
    "collapsed": false
   },
   "outputs": [
    {
     "data": {
      "text/plain": [
       "5.8014134998775425e+20"
      ]
     },
     "execution_count": 25,
     "metadata": {},
     "output_type": "execute_result"
    }
   ],
   "source": [
    "mean_squared_error(Y_test, preds)"
   ]
  },
  {
   "cell_type": "code",
   "execution_count": 26,
   "metadata": {
    "collapsed": false
   },
   "outputs": [
    {
     "data": {
      "text/plain": [
       "<matplotlib.collections.PathCollection at 0x10f9cadd8>"
      ]
     },
     "execution_count": 26,
     "metadata": {},
     "output_type": "execute_result"
    },
    {
     "data": {
      "image/png": "[encoded data removed]",
      "text/plain": [
       "<matplotlib.figure.Figure at 0x10fa27278>"
      ]
     },
     "metadata": {},
     "output_type": "display_data"
    }
   ],
   "source": [
    "plt.scatter(Y_test, preds)"
   ]
  },
  {
   "cell_type": "code",
   "execution_count": 29,
   "metadata": {
    "collapsed": false
   },
   "outputs": [
    {
     "data": {
      "text/plain": [
       "-355396585786.35938"
      ]
     },
     "execution_count": 29,
     "metadata": {},
     "output_type": "execute_result"
    }
   ],
   "source": [
    "min(preds)"
   ]
  },
  {
   "cell_type": "code",
   "execution_count": 31,
   "metadata": {
    "collapsed": false
   },
   "outputs": [
    {
     "data": {
      "text/plain": [
       "193"
      ]
     },
     "execution_count": 31,
     "metadata": {},
     "output_type": "execute_result"
    }
   ],
   "source": [
    "list(preds).index(min(preds))"
   ]
  },
  {
   "cell_type": "code",
   "execution_count": 33,
   "metadata": {
    "collapsed": false
   },
   "outputs": [],
   "source": [
    "preds_list = list(preds)\n",
    "del preds_list[193]"
   ]
  },
  {
   "cell_type": "code",
   "execution_count": 34,
   "metadata": {
    "collapsed": true
   },
   "outputs": [],
   "source": [
    "Y_test_list = list(Y_test)\n",
    "del Y_test_list[193]"
   ]
  },
  {
   "cell_type": "code",
   "execution_count": 35,
   "metadata": {
    "collapsed": false
   },
   "outputs": [
    {
     "data": {
      "text/plain": [
       "<matplotlib.collections.PathCollection at 0x10f99e630>"
      ]
     },
     "execution_count": 35,
     "metadata": {},
     "output_type": "execute_result"
    },
    {
     "data": {
      "image/png": "[encoded data removed]",
      "text/plain": [
       "<matplotlib.figure.Figure at 0x10f9bc940>"
      ]
     },
     "metadata": {},
     "output_type": "display_data"
    }
   ],
   "source": [
    "plt.scatter(Y_test_list, preds_list, )"
   ]
  },
  {
   "cell_type": "code",
   "execution_count": 36,
   "metadata": {
    "collapsed": true
   },
   "outputs": [],
   "source": [
    "from sklearn.feature_selection import RFE"
   ]
  },
  {
   "cell_type": "code",
   "execution_count": 39,
   "metadata": {
    "collapsed": false
   },
   "outputs": [
    {
     "data": {
      "text/plain": [
       "RFE(estimator=RandomForestRegressor(bootstrap=True, criterion='mse', max_depth=None,\n",
       "           max_features='auto', max_leaf_nodes=None,\n",
       "           min_impurity_split=1e-07, min_samples_leaf=1,\n",
       "           min_samples_split=2, min_weight_fraction_leaf=0.0,\n",
       "           n_estimators=200, n_jobs=-1, oob_score=False, random_state=None,\n",
       "           verbose=0, warm_start=False),\n",
       "  n_features_to_select=10, step=1, verbose=0)"
      ]
     },
     "execution_count": 39,
     "metadata": {},
     "output_type": "execute_result"
    }
   ],
   "source": [
    "selector = RFE(rfr, n_features_to_select=10, step=1)\n",
    "selector.fit(X_train, Y_train)"
   ]
  },
  {
   "cell_type": "code",
   "execution_count": 40,
   "metadata": {
    "collapsed": true
   },
   "outputs": [],
   "source": [
    "preds = selector.predict(X_test)"
   ]
  },
  {
   "cell_type": "code",
   "execution_count": 42,
   "metadata": {
    "collapsed": false
   },
   "outputs": [
    {
     "data": {
      "text/plain": [
       "0.14492404625652955"
      ]
     },
     "execution_count": 42,
     "metadata": {},
     "output_type": "execute_result"
    }
   ],
   "source": [
    "mean_squared_error(preds, Y_test)"
   ]
  },
  {
   "cell_type": "code",
   "execution_count": null,
   "metadata": {
    "collapsed": true
   },
   "outputs": [],
   "source": []
  }
 ],
 "metadata": {
  "anaconda-cloud": {},
  "kernelspec": {
   "display_name": "Python [default]",
   "language": "python",
   "name": "python3"
  },
  "language_info": {
   "codemirror_mode": {
    "name": "ipython",
    "version": 3
   },
   "file_extension": ".py",
   "mimetype": "text/x-python",
   "name": "python",
   "nbconvert_exporter": "python",
   "pygments_lexer": "ipython3",
   "version": "3.5.2"
  }
 },
 "nbformat": 4,
 "nbformat_minor": 1
}
