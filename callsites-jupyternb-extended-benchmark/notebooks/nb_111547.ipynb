{
 "cells": [
  {
   "cell_type": "code",
   "execution_count": 256,
   "metadata": {
    "collapsed": false
   },
   "outputs": [],
   "source": [
    "from os import listdir\n",
    "from os.path import isfile, join \n",
    "import numpy as np\n",
    "import pandas as pd \n",
    "import datetime as dt\n",
    "\n",
    "path=\"C:/Users/Luis Moros/Documents/GitHub/MAN6915/FinalProject\""
   ]
  },
  {
   "cell_type": "code",
   "execution_count": 257,
   "metadata": {
    "collapsed": false
   },
   "outputs": [],
   "source": [
    "def obtainRawFileNames(path,ext):\n",
    "    extension = ext if \".\" in ext else \".{}\".format(ext)\n",
    "    return [\"{}/{}\".format(path,f) \n",
    "            for f in listdir(path)\n",
    "            if isfile(join(path, f)) \n",
    "            and f.endswith(extension)]"
   ]
  },
  {
   "cell_type": "code",
   "execution_count": 258,
   "metadata": {
    "collapsed": false
   },
   "outputs": [],
   "source": [
    "def normalizedFields(line, separator):\n",
    "    fields = [field.replace('|', ' ') for field in line.split(',')]\n",
    "    if len(fields)<4:\n",
    "        return \"\"\n",
    "    return separator.join((fields[0], \" \".join(fields[1:-2]), fields[-2], fields[-1]))"
   ]
  },
  {
   "cell_type": "code",
   "execution_count": 259,
   "metadata": {
    "collapsed": true
   },
   "outputs": [],
   "source": [
    "def filterEmptyLines(lines):\n",
    "    return (line for line in lines if line != \"\")"
   ]
  },
  {
   "cell_type": "code",
   "execution_count": 260,
   "metadata": {
    "collapsed": false
   },
   "outputs": [],
   "source": [
    "def replaceComasByPipes(path):\n",
    "    with open(path, 'r', encoding=\"Latin-1\") as file :\n",
    "        filedata = file.read()\n",
    "    \n",
    "    filelines = filterEmptyLines(\n",
    "                    (normalizedFields(line, '|') \n",
    "                     for line in filedata.split('\\n')))\n",
    "\n",
    "    # Write the file out again\n",
    "    with open(path.replace('.','_cleaned.'), 'w', encoding=\"Latin-1\") as file:\n",
    "        file.write(\"\\n\".join(filelines))"
   ]
  },
  {
   "cell_type": "code",
   "execution_count": 261,
   "metadata": {
    "collapsed": false
   },
   "outputs": [],
   "source": [
    "#print(\"\\n\".join(obtainRawFileNames(\n",
    "#                path,\n",
    "#                \"csv\"\n",
    "#        )))"
   ]
  },
  {
   "cell_type": "code",
   "execution_count": 262,
   "metadata": {
    "collapsed": false
   },
   "outputs": [],
   "source": [
    "#for file in obtainRawFileNames(path, \"csv\"):\n",
    "#    replaceComasByPipes(file)       "
   ]
  },
  {
   "cell_type": "code",
   "execution_count": 263,
   "metadata": {
    "collapsed": false
   },
   "outputs": [],
   "source": [
    "durationDf = pd.read_csv(\"{}/{}\".format(path,\"resolution_cleaned.csv\"),sep='|')"
   ]
  },
  {
   "cell_type": "code",
   "execution_count": 264,
   "metadata": {
    "collapsed": false
   },
   "outputs": [],
   "source": [
    "def calculateDuration(x):\n",
    "    if len(x) ==1:\n",
    "        arbitraryMax = ((dt.datetime(2013,1,1) - dt.datetime(1970,1,1)).total_seconds())\n",
    "        return arbitraryMax - min(x) \n",
    "    return max(x) - min(x)\n",
    "\n",
    "durationDf[\"when\"] = durationDf[\"when\"].apply(pd.to_numeric)\n",
    "durationDfFinal = pd.DataFrame(durationDf.groupby(\"id\")[\"when\"].apply(calculateDuration))\n",
    "durationDfFinal.columns = ['duration']"
   ]
  },
  {
   "cell_type": "code",
   "execution_count": 265,
   "metadata": {
    "collapsed": false
   },
   "outputs": [],
   "source": [
    "ccDf = pd.read_csv(\"{}/{}\".format(path,\"cc_cleaned.csv\"),sep='|', na_filter=False)"
   ]
  },
  {
   "cell_type": "code",
   "execution_count": 266,
   "metadata": {
    "collapsed": false
   },
   "outputs": [],
   "source": [
    "def calculateTotalCcs(x):\n",
    "    ccs = x.str.split(';').count()\n",
    "    return ccs\n",
    "\n",
    "ccDfFinal = ccDf[ccDf[\"what\"].str.strip()!='']\n",
    "ccDfFinal = pd.DataFrame(ccDfFinal.groupby(\"id\")[\"what\"].apply(calculateTotalCcs))\n",
    "ccDfFinal.columns = ['totalCcs']"
   ]
  },
  {
   "cell_type": "code",
   "execution_count": null,
   "metadata": {
    "collapsed": false
   },
   "outputs": [],
   "source": [
    "reportDf = pd.read_csv(\"{}/{}\".format(path,\"reports_cleaned.csv\"),sep='|')"
   ]
  },
  {
   "cell_type": "code",
   "execution_count": null,
   "metadata": {
    "collapsed": false
   },
   "outputs": [],
   "source": [
    "def calculateOpenMonth(column):\n",
    "    dates = pd.to_datetime(column,unit='s')\n",
    "    return dates.map(lambda x : x.month)\n",
    "    \n",
    "reportDf[\"opening\"] = reportDf[\"opening\"].apply(pd.to_numeric)\n",
    "openMonthDfFinal = pd.DataFrame(reportDf.groupby(\"id\")[\"opening\"].apply(calculateOpenMonth))\n",
    "openMonthDfFinal.columns=['openMonth']"
   ]
  },
  {
   "cell_type": "code",
   "execution_count": null,
   "metadata": {
    "collapsed": false
   },
   "outputs": [],
   "source": [
    "severityDf = pd.read_csv(\"{}/{}\".format(path,\"severity_cleaned.csv\"),sep='|')"
   ]
  },
  {
   "cell_type": "code",
   "execution_count": null,
   "metadata": {
    "collapsed": false
   },
   "outputs": [],
   "source": [
    "severityDfFinal = pd.DataFrame(severityDf.groupby('id').first()['what'])\n",
    "severityDfFinal.columns = ['severity']"
   ]
  },
  {
   "cell_type": "code",
   "execution_count": null,
   "metadata": {
    "collapsed": false
   },
   "outputs": [],
   "source": [
    "eventDf = pd.read_csv(\"{}/{}\".format(path,\"resolution_cleaned.csv\"),sep='|')"
   ]
  },
  {
   "cell_type": "code",
   "execution_count": null,
   "metadata": {
    "collapsed": false
   },
   "outputs": [],
   "source": [
    "eventDfFinal = pd.DataFrame(eventDf.groupby('id').last()['what']\\\n",
    "                            .apply(lambda x: 1 if x=='FIXED' else 0))\n",
    "eventDfFinal.columns = ['event']"
   ]
  },
  {
   "cell_type": "code",
   "execution_count": null,
   "metadata": {
    "collapsed": false
   },
   "outputs": [],
   "source": [
    "assignedDf = pd.read_csv(\"{}/{}\".format(path,\"assigned_to_cleaned.csv\"),sep='|')"
   ]
  },
  {
   "cell_type": "code",
   "execution_count": null,
   "metadata": {
    "collapsed": false
   },
   "outputs": [],
   "source": [
    "def obtainAssignee(x):\n",
    "    names =  x['what'].str.cat(sep=';')\n",
    "    return names\n",
    "assignedDf = assignedDf[assignedDf['what']!='None']\n",
    "assignedDfFinal = pd.DataFrame(assignedDf.groupby('id').apply(obtainAssignee))\n",
    "assignedDfFinal.columns = ['assignee']"
   ]
  },
  {
   "cell_type": "code",
   "execution_count": null,
   "metadata": {
    "collapsed": false
   },
   "outputs": [],
   "source": [
    "def obtainReporter(x):\n",
    "    names =  x['reporter'].str.cat(sep=';')\n",
    "    return names\n",
    "reportDf['reporter'] = reportDf['reporter'].astype('str')\n",
    "reporterDfFinal = pd.DataFrame(reportDf.groupby(\"id\").apply(obtainReporter))\n",
    "reporterDfFinal.columns=['reporter']"
   ]
  },
  {
   "cell_type": "code",
   "execution_count": null,
   "metadata": {
    "collapsed": false
   },
   "outputs": [],
   "source": [
    "finalDF = durationDfFinal\\\n",
    "            .join(ccDfFinal, how='left')\\\n",
    "            .join(openMonthDfFinal, how='inner' )\\\n",
    "            .join(severityDfFinal, how='inner')\\\n",
    "            .join(assignedDfFinal, how='inner')\\\n",
    "            .join(reporterDfFinal, how='inner')\\\n",
    "            .join(eventDfFinal, how='inner')"
   ]
  },
  {
   "cell_type": "code",
   "execution_count": null,
   "metadata": {
    "collapsed": true
   },
   "outputs": [],
   "source": [
    "finalDF.fillna(value=0, inplace=True)"
   ]
  },
  {
   "cell_type": "code",
   "execution_count": null,
   "metadata": {
    "collapsed": false
   },
   "outputs": [],
   "source": [
    "finalDF['openMonth'] = pd.Categorical(finalDF['openMonth'])\n",
    "finalDF['severity'] = pd.Categorical(finalDF['severity'])"
   ]
  },
  {
   "cell_type": "code",
   "execution_count": null,
   "metadata": {
    "collapsed": true
   },
   "outputs": [],
   "source": [
    "def getTrainPlusTestSets(df):\n",
    "    \"\"\"\n",
    "    Sample train and test sets\n",
    "    \"\"\"\n",
    "    from sklearn.model_selection import train_test_split\n",
    "    x = df.loc[:,['severity','reporter','totalCcs','duration','openMonth','assignee']] \n",
    "    y = df.loc[:,['event']]\n",
    "    return train_test_split(x, y, test_size=0.3, random_state=1, stratify=x['openMonth'])"
   ]
  },
  {
   "cell_type": "code",
   "execution_count": null,
   "metadata": {
    "collapsed": false
   },
   "outputs": [],
   "source": [
    "x_train, x_test, y_train_final, y_test_final = getTrainPlusTestSets(finalDF)"
   ]
  },
  {
   "cell_type": "code",
   "execution_count": null,
   "metadata": {
    "collapsed": false
   },
   "outputs": [],
   "source": [
    "def getProportion(df, feature):\n",
    "    def f(x):\n",
    "        x = x.loc[:,[feature]].join(y_train, how='inner')\n",
    "        return (x[x['event']==1]).count()/(x.count()+1)\n",
    "    \n",
    "    temp = pd.DataFrame(x_train.groupby(feature).apply(f).iloc[:,0])\n",
    "    temp.columns = [feature+'SuccRate']\n",
    "\n",
    "    return temp.merge(df, left_index=True,right_on=feature, how='inner')                                                 "
   ]
  },
  {
   "cell_type": "code",
   "execution_count": null,
   "metadata": {
    "collapsed": false
   },
   "outputs": [],
   "source": [
    "x_train_final = getProportion(x_train,'assignee')\n",
    "x_train_final = getProportion(x_train_final,'reporter')\n",
    "x_train_final = x_train_final.loc[:,[\\\n",
    "                                     'assigneeSuccRate',\\\n",
    "                                     'reporterSuccRate',\\\n",
    "                                     'severity',\\\n",
    "                                     'totalCcs',\\\n",
    "                                     'duration',\\\n",
    "                                     'openMonth'\\\n",
    "                                    ]]\n",
    "x_train_final = pd.get_dummies(x_train_final,columns=['openMonth','severity'])"
   ]
  },
  {
   "cell_type": "code",
   "execution_count": null,
   "metadata": {
    "collapsed": false
   },
   "outputs": [],
   "source": [
    "x_train_final"
   ]
  },
  {
   "cell_type": "code",
   "execution_count": null,
   "metadata": {
    "collapsed": true
   },
   "outputs": [],
   "source": [
    "x_test_final = getProportion(x_test,'assignee')\n",
    "x_test_final = getProportion(x_test_final,'reporter')\n",
    "x_test_final = x_test_final.loc[:,[\\\n",
    "                                     'assigneeSuccRate',\\\n",
    "                                     'reporterSuccRate',\\\n",
    "                                     'severity',\\\n",
    "                                     'totalCcs',\\\n",
    "                                     'duration',\\\n",
    "                                     'openMonth'\\\n",
    "                                    ]]\n",
    "x_test_final = pd.get_dummies(x_test_final,columns=['openMonth','severity'])"
   ]
  },
  {
   "cell_type": "code",
   "execution_count": null,
   "metadata": {
    "collapsed": false
   },
   "outputs": [],
   "source": [
    "x_test_final"
   ]
  },
  {
   "cell_type": "code",
   "execution_count": null,
   "metadata": {
    "collapsed": false
   },
   "outputs": [],
   "source": [
    "from sklearn import linear_model\n",
    "\n",
    "logreg = linear_model.LogisticRegression()\n",
    "logreg.fit(x_train_final, y_train_final.iloc[:,0].ravel())"
   ]
  }
 ],
 "metadata": {
  "anaconda-cloud": {},
  "kernelspec": {
   "display_name": "Python [conda root]",
   "language": "python",
   "name": "conda-root-py"
  },
  "language_info": {
   "codemirror_mode": {
    "name": "ipython",
    "version": 3
   },
   "file_extension": ".py",
   "mimetype": "text/x-python",
   "name": "python",
   "nbconvert_exporter": "python",
   "pygments_lexer": "ipython3",
   "version": "3.5.2"
  }
 },
 "nbformat": 4,
 "nbformat_minor": 1
}
