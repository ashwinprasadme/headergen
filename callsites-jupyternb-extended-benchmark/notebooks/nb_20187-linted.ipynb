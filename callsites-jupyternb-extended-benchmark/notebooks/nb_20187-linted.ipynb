{
 "cells": [
  {
   "cell_type": "markdown",
   "id": "29050a1f",
   "metadata": {
    "deletable": false,
    "editable": false,
    "run_control": {
     "frozen": true
    },
    "source_hidden": true
   },
   "source": [
    "### Index of ML Operations<a id='top_phases'></a>\n",
    "<div><ul>\n",
    "<ul><li><details><summary style='list-style: none; cursor: pointer;'><strong>Imported Libraries</strong></summary>\n",
    "<ul>\n",
    "\n",
    "\n",
    "\n",
    "</ul>\n",
    "</details></li></ul>\n",
    "<ul><li><details><summary style='list-style: none;'><s>Visualization</s> (no calls found)</summary>\n",
    "<ul>\n",
    "\n",
    "None\n",
    "\n",
    "</ul>\n",
    "</details></li></ul>\n",
    "<li><details><summary style='list-style: none;'><h3><span style='color:#42a5f5'>Data Preparation</span></h3></summary>\n",
    "<ul>\n",
    "\n",
    "None\n",
    "\n",
    "</ul>\n",
    "</details></li>\n",
    "<ul><li><details><summary style='list-style: none;'><s>Data Profiling and Exploratory Data Analysis</s> (no calls found)</summary>\n",
    "<ul>\n",
    "\n",
    "None\n",
    "\n",
    "</ul>\n",
    "</details></li></ul>\n",
    "<ul><li><details><summary style='list-style: none;'><s>Data Cleaning Filtering</s> (no calls found)</summary>\n",
    "<ul>\n",
    "\n",
    "None\n",
    "\n",
    "</ul>\n",
    "</details></li></ul>\n",
    "<ul><li><details><summary style='list-style: none;'><s>Data Sub-sampling and Train-test Splitting</s> (no calls found)</summary>\n",
    "<ul>\n",
    "\n",
    "None\n",
    "\n",
    "</ul>\n",
    "</details></li></ul>\n",
    "<li><details><summary style='list-style: none;'><h3><span style='color:#42a5f5'>Feature Engineering</span></h3></summary>\n",
    "<ul>\n",
    "\n",
    "None\n",
    "\n",
    "</ul>\n",
    "</details></li>\n",
    "<ul><li><details><summary style='list-style: none;'><s>Feature Transformation</s> (no calls found)</summary>\n",
    "<ul>\n",
    "\n",
    "None\n",
    "\n",
    "</ul>\n",
    "</details></li></ul>\n",
    "<ul><li><details><summary style='list-style: none;'><s>Feature Selection</s> (no calls found)</summary>\n",
    "<ul>\n",
    "\n",
    "None\n",
    "\n",
    "</ul>\n",
    "</details></li></ul>\n",
    "<li><details><summary style='list-style: none;'><h3><span style='color:#42a5f5'>Model Building and Training</span></h3></summary>\n",
    "<ul>\n",
    "\n",
    "None\n",
    "\n",
    "</ul>\n",
    "</details></li>\n",
    "<ul><li><details><summary style='list-style: none;'><s>Model Training</s> (no calls found)</summary>\n",
    "<ul>\n",
    "\n",
    "None\n",
    "\n",
    "</ul>\n",
    "</details></li></ul>\n",
    "<ul><li><details><summary style='list-style: none;'><s>Model Parameter Tuning</s> (no calls found)</summary>\n",
    "<ul>\n",
    "\n",
    "None\n",
    "\n",
    "</ul>\n",
    "</details></li></ul>\n",
    "<ul><li><details><summary style='list-style: none;'><s>Model Validation and Assembling</s> (no calls found)</summary>\n",
    "<ul>\n",
    "\n",
    "None\n",
    "\n",
    "</ul>\n",
    "</details></li></ul>\n",
    "</ul>\n",
    "<hr>\n",
    "\n",
    "</div>"
   ]
  },
  {
   "cell_type": "markdown",
   "id": "df063c56",
   "metadata": {
    "deletable": false,
    "editable": false,
    "run_control": {
     "frozen": true
    }
   },
   "source": [
    "<div> <h3 class='hg'>1. Library Loading</h3>  <a id='1'></a><small><a href='#top_phases'>back to top</a></small> </div>"
   ]
  },
  {
   "cell_type": "code",
   "execution_count": null,
   "id": "74f434e5",
   "metadata": {},
   "outputs": [],
   "source": [
    "import graphlab as gl"
   ]
  },
  {
   "cell_type": "code",
   "execution_count": null,
   "id": "021165c8",
   "metadata": {},
   "outputs": [],
   "source": [
    "data=gl.SFrame(\"C:/Users/Smitha/Desktop/output_http_csic_2010_weka_with_duplications_RAW-RFC2616_escd_v02_full.csv\")"
   ]
  },
  {
   "cell_type": "code",
   "execution_count": null,
   "id": "49481bf1",
   "metadata": {},
   "outputs": [],
   "source": [
    "svm_classifier_model = gl.classifier.svm_classifier.create(train_data,target = 'label',features = ['payload'], validation_set=test_data)"
   ]
  },
  {
   "cell_type": "code",
   "execution_count": null,
   "id": "e6bba307",
   "metadata": {},
   "outputs": [],
   "source": [
    "train_data,test_data=data.random_split(0.8)"
   ]
  },
  {
   "cell_type": "code",
   "execution_count": null,
   "id": "2ef1e914",
   "metadata": {},
   "outputs": [],
   "source": [
    "svm_classifier_model = gl.classifier.svm_classifier.create(train_data,target = 'label',features = ['payload'], validation_set=test_data)"
   ]
  },
  {
   "cell_type": "code",
   "execution_count": null,
   "id": "015dae2c",
   "metadata": {},
   "outputs": [],
   "source": [
    "rf_classifier_model=gl.classifier.random_forest_classifier(train_data,target = 'label',features = ['payload'], validation_set=test_data)"
   ]
  },
  {
   "cell_type": "code",
   "execution_count": null,
   "id": "bf1648f0",
   "metadata": {},
   "outputs": [],
   "source": [
    "rf_classifier_model = gl.classifier.random_forest_classifier.create(train_data,target = 'label',features = ['payload'], validation_set=test_data)"
   ]
  },
  {
   "cell_type": "code",
   "execution_count": null,
   "id": "65b4d610",
   "metadata": {},
   "outputs": [],
   "source": [
    "dt_classifier_model = gl.classifier.decision_tree_classifier.create(train_data,target = 'label',features = ['payload'], validation_set=test_data)"
   ]
  },
  {
   "cell_type": "code",
   "execution_count": null,
   "id": "5b33f181",
   "metadata": {},
   "outputs": [],
   "source": [
    "bt_classifier_model = gl.classifier.boosted_trees_classifier.create(train_data,target = 'label',features = ['payload'], validation_set=test_data)"
   ]
  },
  {
   "cell_type": "code",
   "execution_count": null,
   "id": "e6467b83",
   "metadata": {},
   "outputs": [],
   "source": [
    "lr_classifier_model = gl.classifier.logistic_classifier.create(train_data,target = 'label',features = ['payload'], validation_set=test_data)"
   ]
  },
  {
   "cell_type": "code",
   "execution_count": null,
   "id": "9304768d",
   "metadata": {},
   "outputs": [],
   "source": [
    "nn_classifier_model = gl.classifier.neuralnet_classifier.create(train_data,target = 'label',features = ['payload'], validation_set=test_data)"
   ]
  },
  {
   "cell_type": "code",
   "execution_count": null,
   "id": "652fda60",
   "metadata": {},
   "outputs": [],
   "source": [
    "nn_classifier_model = gl.classifier.nearest_neighbor_classifier.create(train_data,target = 'label',features = ['payload'], validation_set=test_data)"
   ]
  },
  {
   "cell_type": "code",
   "execution_count": null,
   "id": "630de5f8",
   "metadata": {},
   "outputs": [],
   "source": [
    "nn_classifier_model = gl.classifier.nearest_neighbor_classifier.create(train_data,target = 'label',features = ['payload'], validation_set=test_data)"
   ]
  },
  {
   "cell_type": "code",
   "execution_count": null,
   "id": "172b54cc",
   "metadata": {
    "lines_to_next_cell": 2
   },
   "outputs": [],
   "source": [
    "svm_classifier_model = gl.classifier.svm_classifier.create(train_data,target = 'label',features = ['method','host','contentLength','contentType','payload','cookie'], validation_set=test_data)"
   ]
  },
  {
   "cell_type": "markdown",
   "id": "f0a41af2",
   "metadata": {
    "deletable": false,
    "editable": false,
    "run_control": {
     "frozen": true
    }
   },
   "source": [
    "<div> <h3 class='hg'>15. Library Loading</h3>  <a id='15'></a><small><a href='#top_phases'>back to top</a></small> </div>"
   ]
  },
  {
   "cell_type": "code",
   "execution_count": null,
   "id": "5aba1157",
   "metadata": {},
   "outputs": [],
   "source": [
    "import graphlab as gl"
   ]
  },
  {
   "cell_type": "code",
   "execution_count": null,
   "id": "c18ea5bd",
   "metadata": {},
   "outputs": [],
   "source": [
    "data=gl.SFrame(\"C:/Users/Smitha/Desktop/output_http_csic_2010_weka_with_duplications_RAW-RFC2616_escd_v02_full.csv\")"
   ]
  },
  {
   "cell_type": "code",
   "execution_count": null,
   "id": "cf821eae",
   "metadata": {},
   "outputs": [],
   "source": [
    "svm_classifier_model = gl.classifier.svm_classifier.create(train_data,target = 'label',features = ['method','host','contentLength','contentType','payload','cookie'], validation_set=test_data)"
   ]
  },
  {
   "cell_type": "code",
   "execution_count": null,
   "id": "217b194e",
   "metadata": {},
   "outputs": [],
   "source": [
    "train_data,test_data=data.random_split(0.8)"
   ]
  },
  {
   "cell_type": "code",
   "execution_count": null,
   "id": "5646047a",
   "metadata": {},
   "outputs": [],
   "source": [
    "svm_classifier_model = gl.classifier.svm_classifier.create(train_data,target = 'label',features = ['method','host','contentLength','contentType','payload','cookie'], validation_set=test_data)"
   ]
  },
  {
   "cell_type": "code",
   "execution_count": null,
   "id": "215d802e",
   "metadata": {},
   "outputs": [],
   "source": [
    "svm_classifier_model.evaluate(test_data)"
   ]
  },
  {
   "cell_type": "code",
   "execution_count": null,
   "id": "60d21893",
   "metadata": {},
   "outputs": [],
   "source": [
    "dt_classifier_model = gl.classifier.decision_tree_classifier.create(train_data,target = 'label',features = ['method','host','contentLength','contentType','payload','cookie'], validation_set=test_data)"
   ]
  },
  {
   "cell_type": "code",
   "execution_count": null,
   "id": "4d5a066b",
   "metadata": {},
   "outputs": [],
   "source": [
    "dt_classifier_model.evaluate(test_data)"
   ]
  },
  {
   "cell_type": "code",
   "execution_count": null,
   "id": "b7cf1a78",
   "metadata": {},
   "outputs": [],
   "source": [
    "rf_classifier_model = gl.classifier.random_forest_classifier.create(train_data,target = 'label',features = ['method','host','contentLength','contentType','payload','cookie'], validation_set=test_data)"
   ]
  },
  {
   "cell_type": "code",
   "execution_count": null,
   "id": "0ed37c5f",
   "metadata": {},
   "outputs": [],
   "source": [
    "rf_classifier_model.evaluate(test_data)"
   ]
  },
  {
   "cell_type": "code",
   "execution_count": null,
   "id": "5a828786",
   "metadata": {},
   "outputs": [],
   "source": [
    "bt_classifier_model = gl.classifier.boosted_trees_classifier.create(train_data,target = 'label',features = ['method','host','contentLength','contentType','payload','cookie'], validation_set=test_data)"
   ]
  },
  {
   "cell_type": "code",
   "execution_count": null,
   "id": "3c01b329",
   "metadata": {},
   "outputs": [],
   "source": [
    "bt_classifier_model.evaluate(test_data)"
   ]
  },
  {
   "cell_type": "code",
   "execution_count": null,
   "id": "8b7534ee",
   "metadata": {},
   "outputs": [],
   "source": [
    "lr_classifier_model = gl.classifier.logistic_classifier.create(train_data,target = 'label',features = ['method','host','contentLength','contentType','payload','cookie'], validation_set=test_data)"
   ]
  },
  {
   "cell_type": "code",
   "execution_count": null,
   "id": "58355d01",
   "metadata": {},
   "outputs": [],
   "source": [
    "lr_classifier_model.evaluate(test_data)"
   ]
  },
  {
   "cell_type": "code",
   "execution_count": null,
   "id": "75cb6af4",
   "metadata": {},
   "outputs": [],
   "source": [
    "nn_classifier_model = gl.classifier.neuralnet_classifier.create(train_data,target = 'label',features = ['method','host','contentLength','contentType','payload','cookie'], validation_set=test_data)"
   ]
  },
  {
   "cell_type": "code",
   "execution_count": null,
   "id": "36ca58e6",
   "metadata": {},
   "outputs": [],
   "source": [
    "nnb_classifier_model = gl.classifier.nearest_neighbor_classifier.create(train_data,target = 'label',features = ['method','host','contentLength','contentType','payload','cookie'], validation_set=test_data)"
   ]
  },
  {
   "cell_type": "code",
   "execution_count": null,
   "id": "63c2ba7f",
   "metadata": {},
   "outputs": [],
   "source": []
  }
 ],
 "metadata": {
  "kernelspec": {
   "display_name": "Python 3",
   "language": "python",
   "name": "python3"
  }
 },
 "nbformat": 4,
 "nbformat_minor": 5
}
